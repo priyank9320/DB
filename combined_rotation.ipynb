{
 "cells": [
  {
   "cell_type": "code",
   "execution_count": 33,
   "source": [
    "import pandas as pd\n",
    "import cv2\n",
    "import pytesseract\n",
    "from pytesseract import Output\n",
    "from scipy.spatial import distance\n",
    "\n",
    "## okay so we try to combine both the rotation functions and test it\n",
    "\n",
    "# and we try it only on those images where we see that the tesseract was failing, so we will get some good estimate\n",
    "\n",
    "# path to the bounding box file\n",
    "path = \"/home/priyank/DB/demo_results/ff6f9e30-89ab-44bb-906e-6b8914bb2961__32-012520100_7140191623_714-1b795a0_Commercial_Invoice-2.jpg\"\n",
    "csv_path = \"/home/priyank/DB/demo_results/res_ff6f9e30-89ab-44bb-906e-6b8914bb2961__32-012520100_7140191623_714-1b795a0_Commercial_Invoice-2.txt\"\n",
    "result_path = path\n",
    "df=pd.read_csv(csv_path ,header=None)\n",
    "df"
   ],
   "outputs": [
    {
     "output_type": "execute_result",
     "data": {
      "text/html": [
       "<div>\n",
       "<style scoped>\n",
       "    .dataframe tbody tr th:only-of-type {\n",
       "        vertical-align: middle;\n",
       "    }\n",
       "\n",
       "    .dataframe tbody tr th {\n",
       "        vertical-align: top;\n",
       "    }\n",
       "\n",
       "    .dataframe thead th {\n",
       "        text-align: right;\n",
       "    }\n",
       "</style>\n",
       "<table border=\"1\" class=\"dataframe\">\n",
       "  <thead>\n",
       "    <tr style=\"text-align: right;\">\n",
       "      <th></th>\n",
       "      <th>0</th>\n",
       "      <th>1</th>\n",
       "      <th>2</th>\n",
       "      <th>3</th>\n",
       "      <th>4</th>\n",
       "      <th>5</th>\n",
       "      <th>6</th>\n",
       "      <th>7</th>\n",
       "      <th>8</th>\n",
       "    </tr>\n",
       "  </thead>\n",
       "  <tbody>\n",
       "    <tr>\n",
       "      <th>0</th>\n",
       "      <td>1245</td>\n",
       "      <td>2090</td>\n",
       "      <td>1314</td>\n",
       "      <td>2090</td>\n",
       "      <td>1314</td>\n",
       "      <td>2122</td>\n",
       "      <td>1245</td>\n",
       "      <td>2122</td>\n",
       "      <td>0.499888</td>\n",
       "    </tr>\n",
       "    <tr>\n",
       "      <th>1</th>\n",
       "      <td>1208</td>\n",
       "      <td>2092</td>\n",
       "      <td>1250</td>\n",
       "      <td>2092</td>\n",
       "      <td>1250</td>\n",
       "      <td>2122</td>\n",
       "      <td>1208</td>\n",
       "      <td>2122</td>\n",
       "      <td>0.560552</td>\n",
       "    </tr>\n",
       "    <tr>\n",
       "      <th>2</th>\n",
       "      <td>1160</td>\n",
       "      <td>2092</td>\n",
       "      <td>1206</td>\n",
       "      <td>2092</td>\n",
       "      <td>1206</td>\n",
       "      <td>2119</td>\n",
       "      <td>1160</td>\n",
       "      <td>2119</td>\n",
       "      <td>0.634082</td>\n",
       "    </tr>\n",
       "    <tr>\n",
       "      <th>3</th>\n",
       "      <td>1062</td>\n",
       "      <td>2092</td>\n",
       "      <td>1148</td>\n",
       "      <td>2092</td>\n",
       "      <td>1148</td>\n",
       "      <td>2117</td>\n",
       "      <td>1062</td>\n",
       "      <td>2117</td>\n",
       "      <td>0.623024</td>\n",
       "    </tr>\n",
       "    <tr>\n",
       "      <th>4</th>\n",
       "      <td>1016</td>\n",
       "      <td>2092</td>\n",
       "      <td>1060</td>\n",
       "      <td>2092</td>\n",
       "      <td>1060</td>\n",
       "      <td>2119</td>\n",
       "      <td>1016</td>\n",
       "      <td>2119</td>\n",
       "      <td>0.617934</td>\n",
       "    </tr>\n",
       "    <tr>\n",
       "      <th>...</th>\n",
       "      <td>...</td>\n",
       "      <td>...</td>\n",
       "      <td>...</td>\n",
       "      <td>...</td>\n",
       "      <td>...</td>\n",
       "      <td>...</td>\n",
       "      <td>...</td>\n",
       "      <td>...</td>\n",
       "      <td>...</td>\n",
       "    </tr>\n",
       "    <tr>\n",
       "      <th>315</th>\n",
       "      <td>1423</td>\n",
       "      <td>164</td>\n",
       "      <td>1460</td>\n",
       "      <td>164</td>\n",
       "      <td>1460</td>\n",
       "      <td>194</td>\n",
       "      <td>1423</td>\n",
       "      <td>194</td>\n",
       "      <td>0.541388</td>\n",
       "    </tr>\n",
       "    <tr>\n",
       "      <th>316</th>\n",
       "      <td>446</td>\n",
       "      <td>164</td>\n",
       "      <td>476</td>\n",
       "      <td>164</td>\n",
       "      <td>476</td>\n",
       "      <td>194</td>\n",
       "      <td>446</td>\n",
       "      <td>194</td>\n",
       "      <td>0.550759</td>\n",
       "    </tr>\n",
       "    <tr>\n",
       "      <th>317</th>\n",
       "      <td>1083</td>\n",
       "      <td>119</td>\n",
       "      <td>1326</td>\n",
       "      <td>119</td>\n",
       "      <td>1326</td>\n",
       "      <td>167</td>\n",
       "      <td>1083</td>\n",
       "      <td>167</td>\n",
       "      <td>0.691600</td>\n",
       "    </tr>\n",
       "    <tr>\n",
       "      <th>318</th>\n",
       "      <td>1370</td>\n",
       "      <td>112</td>\n",
       "      <td>1504</td>\n",
       "      <td>112</td>\n",
       "      <td>1504</td>\n",
       "      <td>169</td>\n",
       "      <td>1370</td>\n",
       "      <td>169</td>\n",
       "      <td>0.650082</td>\n",
       "    </tr>\n",
       "    <tr>\n",
       "      <th>319</th>\n",
       "      <td>152</td>\n",
       "      <td>0</td>\n",
       "      <td>698</td>\n",
       "      <td>0</td>\n",
       "      <td>698</td>\n",
       "      <td>187</td>\n",
       "      <td>152</td>\n",
       "      <td>187</td>\n",
       "      <td>0.314049</td>\n",
       "    </tr>\n",
       "  </tbody>\n",
       "</table>\n",
       "<p>320 rows × 9 columns</p>\n",
       "</div>"
      ],
      "text/plain": [
       "        0     1     2     3     4     5     6     7         8\n",
       "0    1245  2090  1314  2090  1314  2122  1245  2122  0.499888\n",
       "1    1208  2092  1250  2092  1250  2122  1208  2122  0.560552\n",
       "2    1160  2092  1206  2092  1206  2119  1160  2119  0.634082\n",
       "3    1062  2092  1148  2092  1148  2117  1062  2117  0.623024\n",
       "4    1016  2092  1060  2092  1060  2119  1016  2119  0.617934\n",
       "..    ...   ...   ...   ...   ...   ...   ...   ...       ...\n",
       "315  1423   164  1460   164  1460   194  1423   194  0.541388\n",
       "316   446   164   476   164   476   194   446   194  0.550759\n",
       "317  1083   119  1326   119  1326   167  1083   167  0.691600\n",
       "318  1370   112  1504   112  1504   169  1370   169  0.650082\n",
       "319   152     0   698     0   698   187   152   187  0.314049\n",
       "\n",
       "[320 rows x 9 columns]"
      ]
     },
     "metadata": {},
     "execution_count": 33
    }
   ],
   "metadata": {}
  },
  {
   "cell_type": "code",
   "execution_count": 13,
   "source": [
    "## distance between x0,y0 and x1,y1\n",
    "df[\"dist_0_to_1\"]=df.apply(lambda s : distance.euclidean( (s[0],s[1]),(s[2],s[3]) ) , axis=1)\n",
    "avg_0_to_1 = sum(df[\"dist_0_to_1\"])/len(df[\"dist_0_to_1\"])\n",
    "\n",
    "df[\"dist_0_to_3\"]=df.apply(lambda s : distance.euclidean( (s[0],s[1]),(s[6],s[7]) ) , axis=1)\n",
    "avg_0_to_3 = sum(df[\"dist_0_to_3\"])/len(df[\"dist_0_to_3\"])"
   ],
   "outputs": [],
   "metadata": {}
  },
  {
   "cell_type": "code",
   "execution_count": 14,
   "source": [
    "if avg_0_to_1 >= avg_0_to_3:\n",
    "    # boxes are horizontally aligned, nothing to right now\n",
    "    print(\"image already horizontal\")\n",
    "    pass \n",
    "\n",
    "else: \n",
    "    # rotate by 90 degrees\n",
    "    # ROTATE_90_CLOCKWISE\n",
    "    # ROTATE_180\n",
    "    # ROTATE_90_COUNTERCLOCKWISE\n",
    "    print(\"rotating the image by 90 degrees to make it horizontal\")\n",
    "    image = cv2.imread(path)\n",
    "    image = cv2.rotate(image, cv2.cv2.ROTATE_90_CLOCKWISE)\n",
    "    # filename=\"/home/priyank/DB/rotation_test_images/rotated_Southern_Life_in_Southern_Literature_text_page_322.jpg\"\n",
    "    # cv2.imwrite(filename, image)\n",
    "\n",
    "\n",
    "    result = pytesseract.image_to_osd(image, output_type=Output.DICT)\n",
    "    if result['rotate'] == 180  :\n",
    "        print('from tesseract : images is at 180 ')\n",
    "        image = cv2.rotate(image, cv2.ROTATE_180)\n",
    "    elif result['rotate'] == 0 :\n",
    "        print('from tesseract : image is at 0 degrees now')\n",
    "    cv2.imwrite(result_path, image)\n",
    "\n"
   ],
   "outputs": [
    {
     "output_type": "stream",
     "name": "stdout",
     "text": [
      "rotating the image by 90 degrees to make it horizontal\n",
      "image is at 0 degrees now\n"
     ]
    }
   ],
   "metadata": {}
  },
  {
   "cell_type": "markdown",
   "source": [
    "the above code is bit difficult to test as we will have to test it manually"
   ],
   "metadata": {}
  },
  {
   "cell_type": "code",
   "execution_count": 15,
   "source": [
    "df.iloc[0]"
   ],
   "outputs": [
    {
     "output_type": "execute_result",
     "data": {
      "text/plain": [
       "0              1964.000000\n",
       "1              3419.000000\n",
       "2              2037.000000\n",
       "3              3423.000000\n",
       "4              2023.000000\n",
       "5              3717.000000\n",
       "6              1950.000000\n",
       "7              3714.000000\n",
       "8                 0.448869\n",
       "dist_0_to_1      73.109507\n",
       "dist_0_to_3     295.332017\n",
       "Name: 0, dtype: float64"
      ]
     },
     "metadata": {},
     "execution_count": 15
    }
   ],
   "metadata": {}
  },
  {
   "cell_type": "code",
   "execution_count": 7,
   "source": [
    "# i=0\n",
    "# xmin=min(  df.iloc[i][0], df.iloc[i][2] , df.iloc[i][4], df.iloc[i][6]  )\n",
    "# ymin=min(  df.iloc[i][1], df.iloc[i][3] , df.iloc[i][5], df.iloc[i][7]  )\n",
    "# xmax=max(  df.iloc[i][0], df.iloc[i][2] , df.iloc[i][4], df.iloc[i][6]  )\n",
    "# ymax=max(  df.iloc[i][1], df.iloc[i][3] , df.iloc[i][5], df.iloc[i][7]  )\n",
    "\n",
    "# cropbbox = ([1], row[2], row[3], row[4])\n",
    "# cropbbox = map(int, cropbbox)\n",
    "# image = cv2.imread(path)\n",
    "\n",
    "# im = image.crop((cropbbox))\n"
   ],
   "outputs": [
    {
     "output_type": "error",
     "ename": "NameError",
     "evalue": "name 'row' is not defined",
     "traceback": [
      "\u001b[0;31m---------------------------------------------------------------------------\u001b[0m",
      "\u001b[0;31mNameError\u001b[0m                                 Traceback (most recent call last)",
      "\u001b[0;32m/tmp/ipykernel_16809/2109311611.py\u001b[0m in \u001b[0;36m<module>\u001b[0;34m\u001b[0m\n\u001b[1;32m      5\u001b[0m \u001b[0mymax\u001b[0m\u001b[0;34m=\u001b[0m\u001b[0mmax\u001b[0m\u001b[0;34m(\u001b[0m  \u001b[0mdf\u001b[0m\u001b[0;34m.\u001b[0m\u001b[0miloc\u001b[0m\u001b[0;34m[\u001b[0m\u001b[0mi\u001b[0m\u001b[0;34m]\u001b[0m\u001b[0;34m[\u001b[0m\u001b[0;36m1\u001b[0m\u001b[0;34m]\u001b[0m\u001b[0;34m,\u001b[0m \u001b[0mdf\u001b[0m\u001b[0;34m.\u001b[0m\u001b[0miloc\u001b[0m\u001b[0;34m[\u001b[0m\u001b[0mi\u001b[0m\u001b[0;34m]\u001b[0m\u001b[0;34m[\u001b[0m\u001b[0;36m3\u001b[0m\u001b[0;34m]\u001b[0m \u001b[0;34m,\u001b[0m \u001b[0mdf\u001b[0m\u001b[0;34m.\u001b[0m\u001b[0miloc\u001b[0m\u001b[0;34m[\u001b[0m\u001b[0mi\u001b[0m\u001b[0;34m]\u001b[0m\u001b[0;34m[\u001b[0m\u001b[0;36m5\u001b[0m\u001b[0;34m]\u001b[0m\u001b[0;34m,\u001b[0m \u001b[0mdf\u001b[0m\u001b[0;34m.\u001b[0m\u001b[0miloc\u001b[0m\u001b[0;34m[\u001b[0m\u001b[0mi\u001b[0m\u001b[0;34m]\u001b[0m\u001b[0;34m[\u001b[0m\u001b[0;36m7\u001b[0m\u001b[0;34m]\u001b[0m  \u001b[0;34m)\u001b[0m\u001b[0;34m\u001b[0m\u001b[0;34m\u001b[0m\u001b[0m\n\u001b[1;32m      6\u001b[0m \u001b[0;34m\u001b[0m\u001b[0m\n\u001b[0;32m----> 7\u001b[0;31m \u001b[0mcropbbox\u001b[0m \u001b[0;34m=\u001b[0m \u001b[0;34m(\u001b[0m\u001b[0;34m[\u001b[0m\u001b[0;36m1\u001b[0m\u001b[0;34m]\u001b[0m\u001b[0;34m,\u001b[0m \u001b[0mrow\u001b[0m\u001b[0;34m[\u001b[0m\u001b[0;36m2\u001b[0m\u001b[0;34m]\u001b[0m\u001b[0;34m,\u001b[0m \u001b[0mrow\u001b[0m\u001b[0;34m[\u001b[0m\u001b[0;36m3\u001b[0m\u001b[0;34m]\u001b[0m\u001b[0;34m,\u001b[0m \u001b[0mrow\u001b[0m\u001b[0;34m[\u001b[0m\u001b[0;36m4\u001b[0m\u001b[0;34m]\u001b[0m\u001b[0;34m)\u001b[0m\u001b[0;34m\u001b[0m\u001b[0;34m\u001b[0m\u001b[0m\n\u001b[0m\u001b[1;32m      8\u001b[0m \u001b[0mcropbbox\u001b[0m \u001b[0;34m=\u001b[0m \u001b[0mmap\u001b[0m\u001b[0;34m(\u001b[0m\u001b[0mint\u001b[0m\u001b[0;34m,\u001b[0m \u001b[0mcropbbox\u001b[0m\u001b[0;34m)\u001b[0m\u001b[0;34m\u001b[0m\u001b[0;34m\u001b[0m\u001b[0m\n\u001b[1;32m      9\u001b[0m \u001b[0mimage\u001b[0m \u001b[0;34m=\u001b[0m \u001b[0mcv2\u001b[0m\u001b[0;34m.\u001b[0m\u001b[0mimread\u001b[0m\u001b[0;34m(\u001b[0m\u001b[0mpath\u001b[0m\u001b[0;34m)\u001b[0m\u001b[0;34m\u001b[0m\u001b[0;34m\u001b[0m\u001b[0m\n",
      "\u001b[0;31mNameError\u001b[0m: name 'row' is not defined"
     ]
    }
   ],
   "metadata": {}
  },
  {
   "cell_type": "code",
   "execution_count": 16,
   "source": [],
   "outputs": [
    {
     "output_type": "execute_result",
     "data": {
      "text/plain": [
       "1950.0"
      ]
     },
     "metadata": {},
     "execution_count": 16
    }
   ],
   "metadata": {}
  },
  {
   "cell_type": "code",
   "execution_count": 21,
   "source": [
    "# ## sort the dataframe according to x0 and y0 \n",
    "# df = df.sort_values(by=[1,0], ignore_index=True)\n"
   ],
   "outputs": [],
   "metadata": {}
  },
  {
   "cell_type": "code",
   "execution_count": 34,
   "source": [
    "import pandas as pd\n",
    "import numpy as np\n",
    "import cv2\n",
    "from matplotlib import pyplot as plt\n",
    "\n",
    "# ## looking at how to crop the image\n",
    "# i = 1\n",
    "# xmin = min( df.iloc[i][0], df.iloc[i][2], df.iloc[i][4], df.iloc[i][6] )\n",
    "# ymin = min ( df.iloc[i][1], df.iloc[i][3], df.iloc[i][5], df.iloc[i][7])\n",
    "# xmax = max( df.iloc[i][0], df.iloc[i][2], df.iloc[i][4], df.iloc[i][6] )\n",
    "# ymax = max ( df.iloc[i][1], df.iloc[i][3], df.iloc[i][5], df.iloc[i][7])\n",
    "\n",
    "i = 0\n",
    "\n",
    "\n",
    "# cropbbox = (xmin, ymin, xmax, ymax)\n",
    "# cropbbox = map(int, cropbbox)\n",
    "image = cv2.imread(path)\n",
    "roi = image[int(df.iloc[i][1]): int (df.iloc[i][5]) , int(df.iloc[i][0]): int(df.iloc[i][4]) ]\n",
    "\n",
    "# counting the number of pixels\n",
    "number_of_white_pix = np.sum(roi == 255)\n",
    "number_of_black_pix = np.sum(roi == 0)\n",
    "\n",
    "\n",
    "print(f\"number of black pixels : {number_of_black_pix}\")\n",
    "print(f\"number of white pixels : {number_of_white_pix}\")\n",
    "\n",
    "\n",
    "%matplotlib inline\n",
    "#The line above is necesary to show Matplotlib's plots inside a Jupyter Notebook\n",
    "#Show the image with matplotlib\n",
    "plt.imshow(roi)\n",
    "plt.show()\n",
    "\n",
    "# roi = image[0:100 , 0:100 ]\n",
    "#cv2.imshow(\"crop-box\", roi)\n",
    "#roi.save('/home/priyank/DB/rotation_test_images/box1-5eedd5c0-90d1-466b-9946-f564ac461e33__ffffeb02-d712-4459-a588-90b984f98141-0-2.png')\n",
    "# cv2.imwrite(\"/home/priyank/DB/rotation_test_images/box1-5eedd5c0-90d1-466b-9946-f564ac461e33__ffffeb02-d712-4459-a588-90b984f98141-0-2.png\", roi)\n",
    "# im = image.crop((cropbbox))\n",
    "\n",
    "\n",
    "# for row in csv_f:\n",
    "#         im = Image.open(row[0])\n",
    "#         cropbbox = (xmin, ymin, xmax, ymax)\n",
    "#         cropbbox = map(int, cropbbox)\n",
    "#         image = cv2.imread(path)\n",
    "#         im = image.crop((cropbbox))\n",
    "        #im.save(output + out_image + \".png\")"
   ],
   "outputs": [
    {
     "output_type": "stream",
     "name": "stdout",
     "text": [
      "number of black pixels : 448\n",
      "number of white pixels : 1782\n"
     ]
    },
    {
     "output_type": "display_data",
     "data": {
      "image/png": "[encoded data removed]",
      "text/plain": [
       "<Figure size 432x288 with 1 Axes>"
      ]
     },
     "metadata": {
      "needs_background": "light"
     }
    }
   ],
   "metadata": {}
  },
  {
   "cell_type": "code",
   "execution_count": 37,
   "source": [
    "## count the number of black pixels in a loop for first and last 20 boxes to detect the top\n",
    "\n",
    "\n",
    "## sort the dataframe according to x0 and y0 \n",
    "df = df.sort_values(by=[1,0], ignore_index=True)\n",
    "\n",
    "\n",
    "\n",
    "total_black_pixels_top=0\n",
    "total_black_pixels_bottom=0\n",
    "\n",
    "image = cv2.imread(path)\n",
    "\n",
    "\n",
    "df_top = df[:20] \n",
    "df_bottom = df[-20:]\n",
    "for index, row in df_top.iterrows():\n",
    "    roi = image[int(df.iloc[i][1]): int (df.iloc[i][5]) , int(df.iloc[i][0]): int(df.iloc[i][4]) ]\n",
    "    total_black_pixels_top = total_black_pixels_top + np.sum(roi == 0)\n",
    "    \n",
    "\n",
    "for index, row in df_bottom.iterrows():\n",
    "    roi = image[  int(row[1]): int (row[5]) , int(row[0]): int(row[4]) ]\n",
    "    total_black_pixels_bottom = total_black_pixels_bottom + np.sum(roi == 0)\n",
    "\n",
    "\n",
    "if total_black_pixels_top > total_black_pixels_bottom:\n",
    "\n",
    "    print(f\"straight image : 0 degrees detected : total_black_pixels_top = {total_black_pixels_top}, total_black_pixels_bottom={total_black_pixels_bottom}\")\n",
    "\n",
    "else:\n",
    "    print(f\"image is upside down : total_black_pixels_top = {total_black_pixels_top}, total_black_pixels_bottom={total_black_pixels_bottom}\")"
   ],
   "outputs": [
    {
     "output_type": "stream",
     "name": "stdout",
     "text": [
      "straight image : 0 degrees detected : total_black_pixels_top = 318160, total_black_pixels_bottom=6826\n"
     ]
    }
   ],
   "metadata": {}
  },
  {
   "cell_type": "code",
   "execution_count": null,
   "source": [],
   "outputs": [],
   "metadata": {}
  }
 ],
 "metadata": {
  "orig_nbformat": 4,
  "language_info": {
   "name": "python",
   "version": "3.8.10",
   "mimetype": "text/x-python",
   "codemirror_mode": {
    "name": "ipython",
    "version": 3
   },
   "pygments_lexer": "ipython3",
   "nbconvert_exporter": "python",
   "file_extension": ".py"
  },
  "kernelspec": {
   "name": "python3",
   "display_name": "Python 3.8.10 64-bit ('3.8.10': pyenv)"
  },
  "interpreter": {
   "hash": "347286deb44898cd39d58808c4cf0c677aa950f58a2f974c7d079ec1c4923349"
  }
 },
 "nbformat": 4,
 "nbformat_minor": 2
}